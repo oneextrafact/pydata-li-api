{
 "cells": [
  {
   "attachments": {},
   "cell_type": "markdown",
   "metadata": {},
   "source": [
    "## Using a Service with an API Key\n",
    "\n",
    "Some services requires an API key or authentication token for use, either for billing purposes or to protect sensitive information. An API key especially is extremely sensitive information - it should never be exposed in code, and definitely not included in source control! Ideally you would manage it using whatever method your company uses to protect secrets, e.g. Hashi Vault. If you don't have a platform for secrets, a decent solution is to store sensitive information in your environment. The Python Dotenv library does this for you, by finding a .env file in your project root and copying its contents to the environment. We use it here to read my RescueTime API key. "
   ]
  },
  {
   "cell_type": "code",
   "execution_count": 18,
   "metadata": {},
   "outputs": [
    {
     "data": {
      "text/plain": [
       "True"
      ]
     },
     "execution_count": 18,
     "metadata": {},
     "output_type": "execute_result"
    }
   ],
   "source": [
    "from dotenv import load_dotenv\n",
    "load_dotenv()"
   ]
  },
  {
   "cell_type": "code",
   "execution_count": 28,
   "metadata": {},
   "outputs": [],
   "source": [
    "import os\n",
    "api_key = os.environ[\"RESCUETIME_KEY\"]"
   ]
  },
  {
   "attachments": {},
   "cell_type": "markdown",
   "metadata": {},
   "source": [
    "We'll use the Python requests library to call the API. Requests allows us to access all HTTP verbs and can also handle aspects such as authorization. It's possibly the easiest and most flexible way to build an API client if one doesn't already exist. "
   ]
  },
  {
   "cell_type": "code",
   "execution_count": 29,
   "metadata": {},
   "outputs": [],
   "source": [
    "import requests"
   ]
  },
  {
   "attachments": {},
   "cell_type": "markdown",
   "metadata": {},
   "source": [
    "We call the Highlights API using my API key. This returns the recently created Highlights.  "
   ]
  },
  {
   "cell_type": "code",
   "execution_count": 37,
   "metadata": {},
   "outputs": [],
   "source": [
    "response = requests.get(url=f\"https://www.rescuetime.com/anapi/highlights_feed?key={api_key}\")"
   ]
  },
  {
   "attachments": {},
   "cell_type": "markdown",
   "metadata": {},
   "source": [
    "We test the response to make sure that it's valid (200, or \"OK\"). This code will throw an error if we get an HTTP code that is not in the 2xx range. "
   ]
  },
  {
   "cell_type": "code",
   "execution_count": 41,
   "metadata": {},
   "outputs": [],
   "source": [
    "try: \n",
    "    response.raise_for_status()\n",
    "except requests.HTTPError as e:\n",
    "    print(e)"
   ]
  },
  {
   "attachments": {},
   "cell_type": "markdown",
   "metadata": {},
   "source": [
    "We can dump the response directly to JSON."
   ]
  },
  {
   "cell_type": "code",
   "execution_count": 43,
   "metadata": {},
   "outputs": [
    {
     "data": {
      "text/plain": [
       "[{'id': 1684684991,\n",
       "  'description': 'working on demo for rescuetime api in postman',\n",
       "  'date': '2023-05-21',\n",
       "  'created_at': '2023-05-21T12:03:11.000-04:00'},\n",
       " {'id': 1684685136,\n",
       "  'description': 'Generated a highlight using the post api',\n",
       "  'date': '2023-05-21',\n",
       "  'created_at': '2023-05-21T12:05:36.000-04:00'}]"
      ]
     },
     "execution_count": 43,
     "metadata": {},
     "output_type": "execute_result"
    }
   ],
   "source": [
    "response.json()"
   ]
  },
  {
   "attachments": {},
   "cell_type": "markdown",
   "metadata": {},
   "source": [
    "We can also POST a new highlights message via the API. I'm not interested in capturing the return value, so I just see the response code. "
   ]
  },
  {
   "cell_type": "code",
   "execution_count": 44,
   "metadata": {},
   "outputs": [
    {
     "data": {
      "text/plain": [
       "<Response [200]>"
      ]
     },
     "execution_count": 44,
     "metadata": {},
     "output_type": "execute_result"
    }
   ],
   "source": [
    "requests.post(f\"\"\"https://www.rescuetime.com/anapi/highlights_post?key={api_key}&highlight_date=2023-05-21&description=Generated a highlight using the post api\"\"\")"
   ]
  },
  {
   "attachments": {},
   "cell_type": "markdown",
   "metadata": {},
   "source": [
    "I can see the new highlight that I just posted. "
   ]
  },
  {
   "cell_type": "code",
   "execution_count": 46,
   "metadata": {},
   "outputs": [
    {
     "data": {
      "text/plain": [
       "[{'id': 1684684991,\n",
       "  'description': 'working on demo for rescuetime api in postman',\n",
       "  'date': '2023-05-21',\n",
       "  'created_at': '2023-05-21T12:03:11.000-04:00'},\n",
       " {'id': 1684685136,\n",
       "  'description': 'Generated a highlight using the post api',\n",
       "  'date': '2023-05-21',\n",
       "  'created_at': '2023-05-21T12:05:36.000-04:00'},\n",
       " {'id': 1684857268,\n",
       "  'description': 'Generated a highlight using the post api',\n",
       "  'date': '2023-05-21',\n",
       "  'created_at': '2023-05-23T11:54:28.000-04:00'}]"
      ]
     },
     "execution_count": 46,
     "metadata": {},
     "output_type": "execute_result"
    }
   ],
   "source": [
    "response = requests.get(url=f\"https://www.rescuetime.com/anapi/highlights_feed?key={api_key}\")\n",
    "response.json()"
   ]
  },
  {
   "cell_type": "code",
   "execution_count": null,
   "metadata": {},
   "outputs": [],
   "source": []
  }
 ],
 "metadata": {
  "kernelspec": {
   "display_name": ".venv",
   "language": "python",
   "name": "python3"
  },
  "language_info": {
   "codemirror_mode": {
    "name": "ipython",
    "version": 3
   },
   "file_extension": ".py",
   "mimetype": "text/x-python",
   "name": "python",
   "nbconvert_exporter": "python",
   "pygments_lexer": "ipython3",
   "version": "3.10.9"
  },
  "orig_nbformat": 4
 },
 "nbformat": 4,
 "nbformat_minor": 2
}
